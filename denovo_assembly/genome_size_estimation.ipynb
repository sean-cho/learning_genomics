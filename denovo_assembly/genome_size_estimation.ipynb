{
 "cells": [
  {
   "cell_type": "markdown",
   "metadata": {},
   "source": [
    "## Estimating genome size\n",
    "\n",
    "This page describes a method of estimating genome size from k-mers and sequencing read information. The equations are based on a review by [Sohn and Nam](https://academic.oup.com/bib/article-lookup/doi/10.1093/bib/bbw096)<sup>1</sup>."
   ]
  },
  {
   "cell_type": "markdown",
   "metadata": {},
   "source": [
    "#### Variables definition\n",
    "\n",
    "Let;\n",
    "\n",
    "$\\small G$ = genome size in bases\n",
    "\n",
    "$\\small D$ = sequencing depth (or coverage)\n",
    "\n",
    "$\\small D'$ = average k-mer depth derived from the peak of a histogram of k-mer counts (see figure below)\n",
    "\n",
    "$\\small N_{base}$ = number of bases sequenced\n",
    "\n",
    "$\\small N_{reads}$ = number of reads sequenced\n",
    "\n",
    "$\\small k$ = k-mer length\n",
    "\n",
    "$\\small l$ = read length\n",
    "\n",
    "<img align=\"left\" style=\"padding-right:10px;\" src=\"img/kmer_histogram.png\">"
   ]
  },
  {
   "cell_type": "markdown",
   "metadata": {},
   "source": [
    "#### Equations\n",
    "\n",
    "Number of k-mers per read = $l - k + 1$\n",
    "\n",
    "Genome size can be calculated as the number of bases sequenced divided by the coverage.\n",
    "\n",
    "$\\large D = \\frac{N_{base}}{G}$\n",
    "\n",
    "$\\large G = \\frac{N_{base}}{D}$\n",
    "\n",
    "And since $N_{base} = N_{reads} \\cdot l$,\n",
    "\n",
    "$\\large G = \\frac{N_{reads} \\cdot l}{D}$\n",
    "\n",
    "The relationship between sequencing depth and k-mer is given by the [Velvet manual](https://www.ebi.ac.uk/~zerbino/velvet/Manual.pdf), section 5.1 as:\n",
    "\n",
    "$\\large D' = \\frac{D \\cdot (l - k + 1)}{l}$\n",
    "\n",
    "Briefly, the k-mer coverage is the depth of coverage (bases) multiplied by the number of k-mers/read divided by the number of bases per read. In other words, this converts the coverage in bases to coverage in k-mers. \n",
    "\n",
    "Taking the inverse of that,\n",
    "\n",
    "$\\large D = \\frac{D' \\cdot l}{l - k + 1}$\n",
    "\n",
    "Putting that into $G = \\frac{N_{reads} \\cdot l}{D}$,\n",
    "\n",
    "$\\large G = N_{reads} \\cdot l \\cdot \\frac{l - k + 1}{D' \\cdot l} $\n",
    "\n",
    "$\\large G = \\frac{N_{reads} \\cdot (l - k + 1)}{D'}$"
   ]
  },
  {
   "cell_type": "markdown",
   "metadata": {},
   "source": [
    "#### References\n",
    "\n",
    "1. Jang-il Sohn, Jin-Wu Nam; The present and future of de novo whole-genome assembly , Briefings in Bioinformatics, bbw096, https://doi.org/10.1093/bib/bbw096"
   ]
  }
 ],
 "metadata": {
  "kernelspec": {
   "display_name": "Python 3",
   "language": "python",
   "name": "python3"
  },
  "language_info": {
   "codemirror_mode": {
    "name": "ipython",
    "version": 3
   },
   "file_extension": ".py",
   "mimetype": "text/x-python",
   "name": "python",
   "nbconvert_exporter": "python",
   "pygments_lexer": "ipython3",
   "version": "3.5.3"
  }
 },
 "nbformat": 4,
 "nbformat_minor": 2
}
